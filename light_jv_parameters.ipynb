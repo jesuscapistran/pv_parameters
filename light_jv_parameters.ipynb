{
 "cells": [
  {
   "cell_type": "markdown",
   "metadata": {},
   "source": [
    "## PV paramter extraction from a Si solar cell and µSMU\n",
    "\n",
    "- Measure the JV curves of solar cell using the micro-SMU\n",
    "- Import data into the Jupyter Notebok and analyse using python3\n",
    "- Plot the JV curve\n",
    "- Extract parameters of the solar cell: Voc, Jsc, FF, Vmax,  Imax "
   ]
  },
  {
   "cell_type": "code",
   "execution_count": 17,
   "metadata": {},
   "outputs": [],
   "source": [
    "# Import libraries\n",
    "\n",
    "import numpy as np\n",
    "import matplotlib.pyplot as plt\n",
    "import statsmodels.api as sm "
   ]
  },
  {
   "cell_type": "code",
   "execution_count": 12,
   "metadata": {},
   "outputs": [],
   "source": [
    "# Import data into Jupyter Notebook \n",
    "\n",
    "filename = 'data/celdaSi_ligh_near_01.dat' # Under Light (White LED lamp with 500 W/m2 irradiance)\n",
    "np_data = np.loadtxt(filename, delimiter=',', skiprows =2) # Import as np.ndarray"
   ]
  },
  {
   "cell_type": "code",
   "execution_count": 13,
   "metadata": {},
   "outputs": [],
   "source": [
    "#Separate data in two arrays - V and J \n",
    "\n",
    "V = np_data[:,0] # voltage is in [V]\n",
    "J = np_data[:,1] # current density is in [mA/cm2]"
   ]
  },
  {
   "cell_type": "code",
   "execution_count": 15,
   "metadata": {},
   "outputs": [],
   "source": [
    "# Find Voc_approx and Jsc_approx\n",
    "\n",
    "a = [J > 0 ] #Voc_approx is located when J > 0 \n",
    "Voc_approx = np.min(V[(J>0)])\n",
    "Voc_approx = round(Voc_approx,4) \n",
    "\n",
    "b = (V < 0)  #Jsc_approx is located when V < 0 \n",
    "Jsc_approx = np.max(J[(V<0)])\n",
    "Jsc_approx = round(Jsc_approx,4)"
   ]
  },
  {
   "cell_type": "code",
   "execution_count": 20,
   "metadata": {},
   "outputs": [],
   "source": [
    "# Find Fill Factor \n",
    "\n",
    "P = J*V # mW/cm2\n",
    "P_min = np.min(P)\n",
    "FF_approx = P_min/(Voc_approx*Jsc_approx)\n",
    "FF_approx = round(FF_approx,4)"
   ]
  },
  {
   "cell_type": "code",
   "execution_count": 18,
   "metadata": {},
   "outputs": [
    {
     "data": {
      "image/png": "[encoded data removed]",
      "text/plain": [
       "<Figure size 432x288 with 1 Axes>"
      ]
     },
     "metadata": {
      "needs_background": "light"
     },
     "output_type": "display_data"
    }
   ],
   "source": [
    "# Plot the JV curve with the approximated values of Voc and Jsc\n",
    "\n",
    "# Print data inside the Voc anc Jsc limits \n",
    "\n",
    "plt.plot(V,J,'or')\n",
    "plt.ylim(np.min(J),0)\n",
    "plt.xlim(0,Voc_approx) # Plot the 4th quadrant from 0 to Voc_approx\n",
    "\n",
    "plt.title('poly-Si solar cell - Max-light', fontsize =16)\n",
    "plt.ylabel('Current density $ \\:[mA/cm^2]$', fontsize=14)\n",
    "plt.xlabel('Voltage $[V]$', fontsize=14)\n",
    "\n",
    "plt.grid()\n",
    "plt.show()"
   ]
  },
  {
   "cell_type": "code",
   "execution_count": 23,
   "metadata": {},
   "outputs": [
    {
     "name": "stdout",
     "output_type": "stream",
     "text": [
      "Voc_approx = 2.0999 V\n",
      "Jsc_approx = -0.5867 mA/cm2\n",
      "FF_approx  = 0.6888 V\n"
     ]
    }
   ],
   "source": [
    "print (f'Voc_approx = {Voc_approx} V')\n",
    "print (f'Jsc_approx = {Jsc_approx} mA/cm2')\n",
    "print (f'FF_approx  = {FF_approx} V')"
   ]
  },
  {
   "cell_type": "code",
   "execution_count": null,
   "metadata": {},
   "outputs": [],
   "source": []
  }
 ],
 "metadata": {
  "interpreter": {
   "hash": "fe801e8ddcd5161e3985bf3ce1923b741859e1c76bbf057d7d910aa9927e3b8a"
  },
  "kernelspec": {
   "display_name": "Python 3.8.8 64-bit ('base': conda)",
   "name": "python3"
  },
  "language_info": {
   "codemirror_mode": {
    "name": "ipython",
    "version": 3
   },
   "file_extension": ".py",
   "mimetype": "text/x-python",
   "name": "python",
   "nbconvert_exporter": "python",
   "pygments_lexer": "ipython3",
   "version": "3.8.8"
  },
  "orig_nbformat": 4
 },
 "nbformat": 4,
 "nbformat_minor": 2
}
