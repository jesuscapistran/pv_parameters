{
 "cells": [
  {
   "cell_type": "markdown",
   "metadata": {},
   "source": [
    "## PV parameter extraction from a Si solar cell and µSMU\n",
    "\n",
    "- Measure the JV-curve of solar cells using the micro-SMU under light\n",
    "- Import data into the Jupyter Notebok and analyse using python3\n",
    "- Plot the JV curve\n",
    "- Extract parameters of the solar cell: Voc, Jsc, FF, Vmax,  Imax \n",
    "\n",
    "Note: The polycristaline Si mini-modules were adquired from Aliexpress (Cheap devices) Parameters:  Voc = 2V , I = 40 mA (4 mA each, 40 mA total at 1000 W/m2)  url: https://es.aliexpress.com/item/4000512203943.html "
   ]
  },
  {
   "cell_type": "code",
   "execution_count": 1,
   "metadata": {},
   "outputs": [],
   "source": [
    "# Import libraries\n",
    "\n",
    "import numpy as np\n",
    "import matplotlib.pyplot as plt\n",
    "import statsmodels.api as sm "
   ]
  },
  {
   "cell_type": "code",
   "execution_count": 2,
   "metadata": {},
   "outputs": [],
   "source": [
    "# Import data into Jupyter Notebook \n",
    "\n",
    "filename = 'data/celdaSi_ligh_near_01.dat' # Under Light (White LED lamp with 500 W/m2 irradiance)\n",
    "np_data = np.loadtxt(filename, delimiter=',', skiprows =2) # Import as np.ndarray"
   ]
  },
  {
   "cell_type": "code",
   "execution_count": 3,
   "metadata": {},
   "outputs": [],
   "source": [
    "#Separate data in two arrays - V and J \n",
    "\n",
    "V = np_data[:,0] # voltage is in [V]\n",
    "J = np_data[:,1] # current density is in [mA/cm2]"
   ]
  },
  {
   "cell_type": "code",
   "execution_count": 4,
   "metadata": {},
   "outputs": [],
   "source": [
    "# Find Voc_approx and Jsc_approx\n",
    "\n",
    "a = [J > 0 ] #Voc_approx is located when J > 0 \n",
    "Voc_approx = np.min(V[(J>0)])\n",
    "Voc_approx = round(Voc_approx,4) \n",
    "\n",
    "b = (V < 0)  #Jsc_approx is located when V < 0 \n",
    "Jsc_approx = np.max(J[(V<0)])\n",
    "Jsc_approx = round(Jsc_approx,4)"
   ]
  },
  {
   "cell_type": "code",
   "execution_count": 5,
   "metadata": {},
   "outputs": [],
   "source": [
    "# Find the approx Fill Factor \n",
    "\n",
    "P = J*V # mW/cm2\n",
    "P_min = np.min(P)\n",
    "FF_approx = P_min/(Voc_approx*Jsc_approx)\n",
    "FF_approx = round(FF_approx,4)"
   ]
  },
  {
   "cell_type": "code",
   "execution_count": 6,
   "metadata": {},
   "outputs": [
    {
     "data": {
      "image/png": "[encoded data removed]",
      "text/plain": [
       "<Figure size 432x288 with 1 Axes>"
      ]
     },
     "metadata": {
      "needs_background": "light"
     },
     "output_type": "display_data"
    }
   ],
   "source": [
    "## Plot the JV curve with the approximated values of Voc and Jsc\n",
    "\n",
    "# Print data inside the Voc anc Jsc limits \n",
    "\n",
    "plt.plot(V,J,'or')\n",
    "plt.ylim(np.min(J),0)\n",
    "plt.xlim(0,Voc_approx) # Plot the 4th quadrant from 0 to Voc_approx\n",
    "\n",
    "plt.title('poly-Si solar cell, 500 $W/m^2$', fontsize =16)\n",
    "plt.ylabel('Current density $ \\:[mA/cm^2]$', fontsize=14)\n",
    "plt.xlabel('Voltage $[V]$', fontsize=14)\n",
    "\n",
    "plt.grid()\n",
    "plt.show()"
   ]
  },
  {
   "cell_type": "code",
   "execution_count": 7,
   "metadata": {},
   "outputs": [
    {
     "name": "stdout",
     "output_type": "stream",
     "text": [
      "Voc_approx = 2.0999 V\n",
      "Jsc_approx = -0.5867 mA/cm2\n",
      "FF_approx  = 0.6888\n"
     ]
    }
   ],
   "source": [
    "#  This are the approximate values extracted from the light JV-curve \n",
    "\n",
    "print (f'Voc_approx = {Voc_approx} V')\n",
    "print (f'Jsc_approx = {Jsc_approx} mA/cm2')\n",
    "print (f'FF_approx  = {FF_approx}')"
   ]
  },
  {
   "cell_type": "code",
   "execution_count": 8,
   "metadata": {},
   "outputs": [],
   "source": [
    "## Refine the Voc trough linear fitting \n",
    "\n",
    "#Import data near Voc to calculate de series resistance (slope)\n",
    "\n",
    "Vs = V[(V < (Voc_approx + 0.04)) & (V > (Voc_approx - 0.04))]\n",
    "Js = J[(V < (Voc_approx + 0.04)) & (V > (Voc_approx - 0.04))]\n",
    "\n",
    "#add the column of ones to the inputs if you want statsmodels to calculate the intercept 𝑏₀. \n",
    "Vs = sm.add_constant(Vs) \n",
    "\n",
    "# Create the model for the regression  and show results \n",
    "\n",
    "model = sm.OLS(Js, Vs) #Take care from the Js , Vs input order\n",
    "results = model.fit()\n",
    "\n",
    "# Extract the y = mx+b coefficients for Voc calculation \n",
    "\n",
    "b1 = results.params[0]\n",
    "m1 = results.params[1]\n",
    "\n",
    "# Linnear fitting of Voc  when mx+b = 0\n",
    "\n",
    "Voc_fit = -b1/m1\n",
    "Voc_fit = round(Voc_fit,4) \n",
    "\n",
    "# Calculation of series resistance (Rs) from the linear model \n",
    "\n",
    "Rs = 1/(m1*1e-3)\n",
    "Rs = round(Rs,2) # Series resistance \n"
   ]
  },
  {
   "cell_type": "code",
   "execution_count": 20,
   "metadata": {},
   "outputs": [],
   "source": [
    "## Refine the Jsc trough linear fitting \n",
    "\n",
    "#Import data near Voc to calculate de series resistance (slope)\n",
    "\n",
    "Vp = V[(V < (0 + 0.04)) & (V > (0 - 0.04))]\n",
    "Jp = J[(V < (0 + 0.04)) & (V > (0 - 0.04))]\n",
    "\n",
    "#add the column of ones to the inputs if you want statsmodels to calculate the intercept 𝑏₀. \n",
    "Vp = sm.add_constant(Vp)  \n",
    "\n",
    "# Create the model for the regression  and show results \n",
    "\n",
    "model_sc = sm.OLS(Jp, Vp)\n",
    "results_sc = model_sc.fit()\n",
    "\n",
    "# Extract the y = mx+b coefficients for Voc calculation \n",
    "\n",
    "b1 = results_sc.params[0]\n",
    "m1 = results_sc.params[1]\n",
    "\n",
    "# Linnear fitting of Voc  when mx+b = 0\n",
    "\n",
    "Jsc_fit = b1\n",
    "Jsc_fit = round(Jsc_fit,4) \n",
    "\n",
    "# Calculation of series resistance (Rs) from the linear model \n",
    "\n",
    "Rp = 1/(m1*1e-3)\n",
    "Rp = round(Rp,2) # Series resistance "
   ]
  },
  {
   "cell_type": "code",
   "execution_count": 21,
   "metadata": {},
   "outputs": [],
   "source": [
    "# Find the accurate Fill Factor (FF)\n",
    "\n",
    "P = J*V # mW/cm2\n",
    "P_min = np.min(P)\n",
    "FF_fit = P_min/(Voc_fit*Jsc_fit)\n",
    "FF_fit = round(FF_fit,4)"
   ]
  },
  {
   "cell_type": "code",
   "execution_count": 24,
   "metadata": {},
   "outputs": [
    {
     "data": {
      "image/png": "[encoded data removed]",
      "text/plain": [
       "<Figure size 432x288 with 1 Axes>"
      ]
     },
     "metadata": {
      "needs_background": "light"
     },
     "output_type": "display_data"
    }
   ],
   "source": [
    "# Plot the whole J(V) curve and use vline and hline to delimite the 4-cuadrant\n",
    "# Print data inside the Voc_fit anc Jsc_fit limits \n",
    "\n",
    "plt.plot(V,J,'or')\n",
    "plt.ylim(np.min(J)-0.05,0+0.05)  #This y_limit can be modify for your values\n",
    "plt.xlim(0-0.1,Voc_fit+0.1)          #This x_limit can be modify for your values\n",
    "\n",
    "plt.title('poly-Si solar cell', fontsize =16)\n",
    "plt.ylabel('Current density $ \\:[mA/cm^2]$', fontsize=14)\n",
    "plt.xlabel('Voltage $[V]$', fontsize=14)\n",
    "\n",
    "plt.vlines(0, -0.7, 0.1, linestyle=\"dashed\")\n",
    "plt.hlines(0 , 0-0.2, Voc_fit+0.2, linestyle=\"dashed\")\n",
    "\n",
    "#plt.grid()\n",
    "plt.show()"
   ]
  },
  {
   "cell_type": "code",
   "execution_count": 22,
   "metadata": {},
   "outputs": [
    {
     "name": "stdout",
     "output_type": "stream",
     "text": [
      "Voc_fit = 2.0794 V\n",
      "Jsc_fit = -0.5863 mA/cm2\n",
      "FF_fit  = 0.696\n"
     ]
    }
   ],
   "source": [
    "#This are the accurate  PV parameters from the light JV-curve\n",
    "\n",
    "print (f'Voc_fit = {Voc_fit} V')\n",
    "print (f'Jsc_fit = {Jsc_fit} mA/cm2')\n",
    "print (f'FF_fit  = {FF_fit}')"
   ]
  },
  {
   "cell_type": "code",
   "execution_count": null,
   "metadata": {},
   "outputs": [],
   "source": [
    "Rs"
   ]
  },
  {
   "cell_type": "code",
   "execution_count": null,
   "metadata": {},
   "outputs": [],
   "source": []
  }
 ],
 "metadata": {
  "interpreter": {
   "hash": "fffd23037aa978196e94c512c7a73c2a2a1965fdec9e67b8f558484b87e4317c"
  },
  "kernelspec": {
   "display_name": "Python 3.8.8 64-bit ('base': conda)",
   "name": "python3"
  },
  "language_info": {
   "codemirror_mode": {
    "name": "ipython",
    "version": 3
   },
   "file_extension": ".py",
   "mimetype": "text/x-python",
   "name": "python",
   "nbconvert_exporter": "python",
   "pygments_lexer": "ipython3",
   "version": "3.8.8"
  },
  "orig_nbformat": 4
 },
 "nbformat": 4,
 "nbformat_minor": 2
}
